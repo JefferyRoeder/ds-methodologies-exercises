{
 "cells": [
  {
   "cell_type": "code",
   "execution_count": 1,
   "metadata": {},
   "outputs": [],
   "source": [
    "import re\n",
    "import unicodedata\n",
    "import pandas as pd\n",
    "import nltk\n",
    "import prep\n",
    "import acquire"
   ]
  },
  {
   "cell_type": "code",
   "execution_count": 2,
   "metadata": {},
   "outputs": [],
   "source": [
    "df = pd.read_csv('spam_clean.csv')"
   ]
  },
  {
   "cell_type": "code",
   "execution_count": 3,
   "metadata": {},
   "outputs": [],
   "source": [
    "df = prep.basic_clean(df)"
   ]
  },
  {
   "cell_type": "code",
   "execution_count": 4,
   "metadata": {},
   "outputs": [
    {
     "data": {
      "text/html": [
       "<div>\n",
       "<style scoped>\n",
       "    .dataframe tbody tr th:only-of-type {\n",
       "        vertical-align: middle;\n",
       "    }\n",
       "\n",
       "    .dataframe tbody tr th {\n",
       "        vertical-align: top;\n",
       "    }\n",
       "\n",
       "    .dataframe thead th {\n",
       "        text-align: right;\n",
       "    }\n",
       "</style>\n",
       "<table border=\"1\" class=\"dataframe\">\n",
       "  <thead>\n",
       "    <tr style=\"text-align: right;\">\n",
       "      <th></th>\n",
       "      <th>label</th>\n",
       "      <th>text</th>\n",
       "    </tr>\n",
       "  </thead>\n",
       "  <tbody>\n",
       "    <tr>\n",
       "      <th>0</th>\n",
       "      <td>ham</td>\n",
       "      <td>go until jurong point crazy available only in ...</td>\n",
       "    </tr>\n",
       "    <tr>\n",
       "      <th>1</th>\n",
       "      <td>ham</td>\n",
       "      <td>ok lar joking wif u oni</td>\n",
       "    </tr>\n",
       "  </tbody>\n",
       "</table>\n",
       "</div>"
      ],
      "text/plain": [
       "  label                                               text\n",
       "0   ham  go until jurong point crazy available only in ...\n",
       "1   ham                            ok lar joking wif u oni"
      ]
     },
     "execution_count": 4,
     "metadata": {},
     "output_type": "execute_result"
    }
   ],
   "source": [
    "df.head(2)"
   ]
  },
  {
   "cell_type": "code",
   "execution_count": 40,
   "metadata": {},
   "outputs": [],
   "source": [
    "def bigram(string):\n",
    "    return list(nltk.ngrams(string.split(),2))\n",
    "def trigram(string):\n",
    "    return list(nltk.ngrams(string.split(),3))"
   ]
  },
  {
   "cell_type": "code",
   "execution_count": 6,
   "metadata": {},
   "outputs": [],
   "source": [
    "string = 'Mary had a little lamb'\n",
    "bigrams = nltk.ngrams(string.split(),2)"
   ]
  },
  {
   "cell_type": "code",
   "execution_count": 7,
   "metadata": {},
   "outputs": [],
   "source": [
    "df['bigrams'] = df.text.apply(bigram)"
   ]
  },
  {
   "cell_type": "code",
   "execution_count": 8,
   "metadata": {
    "scrolled": true
   },
   "outputs": [
    {
     "data": {
      "text/html": [
       "<div>\n",
       "<style scoped>\n",
       "    .dataframe tbody tr th:only-of-type {\n",
       "        vertical-align: middle;\n",
       "    }\n",
       "\n",
       "    .dataframe tbody tr th {\n",
       "        vertical-align: top;\n",
       "    }\n",
       "\n",
       "    .dataframe thead th {\n",
       "        text-align: right;\n",
       "    }\n",
       "</style>\n",
       "<table border=\"1\" class=\"dataframe\">\n",
       "  <thead>\n",
       "    <tr style=\"text-align: right;\">\n",
       "      <th></th>\n",
       "      <th>label</th>\n",
       "      <th>text</th>\n",
       "      <th>bigrams</th>\n",
       "    </tr>\n",
       "  </thead>\n",
       "  <tbody>\n",
       "    <tr>\n",
       "      <th>0</th>\n",
       "      <td>ham</td>\n",
       "      <td>go until jurong point crazy available only in ...</td>\n",
       "      <td>[(go, until), (until, jurong), (jurong, point)...</td>\n",
       "    </tr>\n",
       "    <tr>\n",
       "      <th>1</th>\n",
       "      <td>ham</td>\n",
       "      <td>ok lar joking wif u oni</td>\n",
       "      <td>[(ok, lar), (lar, joking), (joking, wif), (wif...</td>\n",
       "    </tr>\n",
       "  </tbody>\n",
       "</table>\n",
       "</div>"
      ],
      "text/plain": [
       "  label                                               text  \\\n",
       "0   ham  go until jurong point crazy available only in ...   \n",
       "1   ham                            ok lar joking wif u oni   \n",
       "\n",
       "                                             bigrams  \n",
       "0  [(go, until), (until, jurong), (jurong, point)...  \n",
       "1  [(ok, lar), (lar, joking), (joking, wif), (wif...  "
      ]
     },
     "execution_count": 8,
     "metadata": {},
     "output_type": "execute_result"
    }
   ],
   "source": [
    "df.head(2)"
   ]
  },
  {
   "cell_type": "code",
   "execution_count": 38,
   "metadata": {},
   "outputs": [],
   "source": [
    "bigrams = df.bigrams.apply(pd.Series).stack().tolist()"
   ]
  },
  {
   "cell_type": "code",
   "execution_count": 23,
   "metadata": {},
   "outputs": [
    {
     "data": {
      "text/plain": [
       "(are, you)               175\n",
       "(i, am)                  138\n",
       "(have, a)                131\n",
       "(you, are)               126\n",
       "(you, have)              117\n",
       "(do, you)                105\n",
       "(i, will)                 99\n",
       "(in, the)                 99\n",
       "(if, you)                 96\n",
       "(i, have)                 85\n",
       "(to, be)                  83\n",
       "(will, be)                83\n",
       "(want, to)                83\n",
       "(going, to)               76\n",
       "(in, a)                   76\n",
       "(i, was)                  75\n",
       "(to, get)                 75\n",
       "(i, can)                  71\n",
       "(and, i)                  71\n",
       "(have, to)                70\n",
       "(this, is)                70\n",
       "(but, i)                  69\n",
       "(if, u)                   68\n",
       "(on, the)                 66\n",
       "(for, the)                62\n",
       "(you, know)               60\n",
       "(need, to)                60\n",
       "(you, want)               60\n",
       "(call, me)                59\n",
       "(go, to)                  58\n",
       "                        ... \n",
       "(a, parked)                1\n",
       "(click, the)               1\n",
       "(at, amk)                  1\n",
       "(big, 1)                   1\n",
       "(hotel, dusk)              1\n",
       "(donyt, feel)              1\n",
       "(to, rcv)                  1\n",
       "(not, imprtant)            1\n",
       "(onam, to)                 1\n",
       "(n, great)                 1\n",
       "(love, what)               1\n",
       "(offc, nd)                 1\n",
       "(now, else)                1\n",
       "(meeting, supervisor)      1\n",
       "(baoday, 2)                1\n",
       "(finish, work)             1\n",
       "(their, doing)             1\n",
       "(out, stop)                1\n",
       "(happened, aftr)           1\n",
       "(howz, painit)             1\n",
       "(e, place)                 1\n",
       "(updatenow, 12mths)        1\n",
       "(lar, u'll)                1\n",
       "(this, si)                 1\n",
       "(2006, fifa)               1\n",
       "(message, not)             1\n",
       "(p, diddy)                 1\n",
       "(for, thanksgiving)        1\n",
       "(icky, american)           1\n",
       "(kill, myself)             1\n",
       "Length: 42682, dtype: int64"
      ]
     },
     "execution_count": 23,
     "metadata": {},
     "output_type": "execute_result"
    }
   ],
   "source": [
    "pd.Series(bigrams).value_counts()"
   ]
  },
  {
   "cell_type": "code",
   "execution_count": 11,
   "metadata": {},
   "outputs": [
    {
     "data": {
      "text/html": [
       "<div>\n",
       "<style scoped>\n",
       "    .dataframe tbody tr th:only-of-type {\n",
       "        vertical-align: middle;\n",
       "    }\n",
       "\n",
       "    .dataframe tbody tr th {\n",
       "        vertical-align: top;\n",
       "    }\n",
       "\n",
       "    .dataframe thead th {\n",
       "        text-align: right;\n",
       "    }\n",
       "</style>\n",
       "<table border=\"1\" class=\"dataframe\">\n",
       "  <thead>\n",
       "    <tr style=\"text-align: right;\">\n",
       "      <th></th>\n",
       "      <th>label</th>\n",
       "      <th>text</th>\n",
       "      <th>bigrams</th>\n",
       "    </tr>\n",
       "  </thead>\n",
       "  <tbody>\n",
       "    <tr>\n",
       "      <th>0</th>\n",
       "      <td>ham</td>\n",
       "      <td>go until jurong point crazy available only in ...</td>\n",
       "      <td>[(go, until), (until, jurong), (jurong, point)...</td>\n",
       "    </tr>\n",
       "    <tr>\n",
       "      <th>1</th>\n",
       "      <td>ham</td>\n",
       "      <td>ok lar joking wif u oni</td>\n",
       "      <td>[(ok, lar), (lar, joking), (joking, wif), (wif...</td>\n",
       "    </tr>\n",
       "  </tbody>\n",
       "</table>\n",
       "</div>"
      ],
      "text/plain": [
       "  label                                               text  \\\n",
       "0   ham  go until jurong point crazy available only in ...   \n",
       "1   ham                            ok lar joking wif u oni   \n",
       "\n",
       "                                             bigrams  \n",
       "0  [(go, until), (until, jurong), (jurong, point)...  \n",
       "1  [(ok, lar), (lar, joking), (joking, wif), (wif...  "
      ]
     },
     "execution_count": 11,
     "metadata": {},
     "output_type": "execute_result"
    }
   ],
   "source": [
    "df.head(2)"
   ]
  },
  {
   "cell_type": "code",
   "execution_count": 26,
   "metadata": {},
   "outputs": [],
   "source": [
    "df['txt_clean'] = df.text.apply(prep.remove_stopwords)\n",
    "df['bigrams'] = df.txt_clean.apply(bigram)\n"
   ]
  },
  {
   "cell_type": "code",
   "execution_count": 28,
   "metadata": {},
   "outputs": [],
   "source": [
    "bigrams = df.bigrams.apply(pd.Series).stack().tolist()"
   ]
  },
  {
   "cell_type": "code",
   "execution_count": 35,
   "metadata": {},
   "outputs": [
    {
     "name": "stdout",
     "output_type": "stream",
     "text": [
      "bigrams of entire dataset\n"
     ]
    },
    {
     "data": {
      "text/plain": [
       "(please, call)     53\n",
       "(sorry, ')         52\n",
       "(', ')             51\n",
       "(call, later)      50\n",
       "(', call)          45\n",
       "(u, r)             41\n",
       "(let, know)        39\n",
       "(r, u)             39\n",
       "(u, ')             33\n",
       "(', going)         32\n",
       "(wan, 2)           31\n",
       "(good, morning)    30\n",
       "(u, get)           25\n",
       "(po, box)          25\n",
       "(contact, u)       24\n",
       "dtype: int64"
      ]
     },
     "execution_count": 35,
     "metadata": {},
     "output_type": "execute_result"
    }
   ],
   "source": [
    "bigrams = df.bigrams.apply(pd.Series).stack().tolist()\n",
    "print(\"bigrams of entire dataset\")\n",
    "pd.Series(bigrams).value_counts().head(15)\n"
   ]
  },
  {
   "cell_type": "code",
   "execution_count": 37,
   "metadata": {},
   "outputs": [
    {
     "name": "stdout",
     "output_type": "stream",
     "text": [
      "bigrams of spam dataset\n"
     ]
    },
    {
     "data": {
      "text/plain": [
       "(please, call)          44\n",
       "(contact, u)            24\n",
       "(po, box)               24\n",
       "(guaranteed, call)      23\n",
       "(a1000, cash)           23\n",
       "(prize, guaranteed)     22\n",
       "(await, collection)     19\n",
       "(every, week)           19\n",
       "(send, stop)            19\n",
       "(urgent, mobile)        18\n",
       "(land, line)            18\n",
       "(valid, 12hrs)          17\n",
       "(2, claim)              17\n",
       "(customer, service)     17\n",
       "(account, statement)    16\n",
       "dtype: int64"
      ]
     },
     "execution_count": 37,
     "metadata": {},
     "output_type": "execute_result"
    }
   ],
   "source": [
    "print('bigrams of spam dataset')\n",
    "bigrams = df[df.label == 'spam'].bigrams.apply(pd.Series).stack().tolist()\n",
    "pd.Series(bigrams).value_counts().head(15)"
   ]
  },
  {
   "cell_type": "code",
   "execution_count": null,
   "metadata": {},
   "outputs": [],
   "source": [
    "bigrams = df[df.label == 'spam'].bigrams.apply(pd.Series).stack().tolist()"
   ]
  },
  {
   "cell_type": "code",
   "execution_count": 41,
   "metadata": {},
   "outputs": [],
   "source": [
    "df['trigrams'] = df.txt_clean.apply(trigram)"
   ]
  },
  {
   "cell_type": "code",
   "execution_count": 42,
   "metadata": {},
   "outputs": [
    {
     "data": {
      "text/html": [
       "<div>\n",
       "<style scoped>\n",
       "    .dataframe tbody tr th:only-of-type {\n",
       "        vertical-align: middle;\n",
       "    }\n",
       "\n",
       "    .dataframe tbody tr th {\n",
       "        vertical-align: top;\n",
       "    }\n",
       "\n",
       "    .dataframe thead th {\n",
       "        text-align: right;\n",
       "    }\n",
       "</style>\n",
       "<table border=\"1\" class=\"dataframe\">\n",
       "  <thead>\n",
       "    <tr style=\"text-align: right;\">\n",
       "      <th></th>\n",
       "      <th>label</th>\n",
       "      <th>text</th>\n",
       "      <th>bigrams</th>\n",
       "      <th>txt_clean</th>\n",
       "      <th>trigrams</th>\n",
       "    </tr>\n",
       "  </thead>\n",
       "  <tbody>\n",
       "    <tr>\n",
       "      <th>0</th>\n",
       "      <td>ham</td>\n",
       "      <td>go until jurong point crazy available only in ...</td>\n",
       "      <td>[(go, jurong), (jurong, point), (point, crazy)...</td>\n",
       "      <td>go jurong point crazy available bugis n great ...</td>\n",
       "      <td>[(go, jurong, point), (jurong, point, crazy), ...</td>\n",
       "    </tr>\n",
       "    <tr>\n",
       "      <th>1</th>\n",
       "      <td>ham</td>\n",
       "      <td>ok lar joking wif u oni</td>\n",
       "      <td>[(ok, lar), (lar, joking), (joking, wif), (wif...</td>\n",
       "      <td>ok lar joking wif u oni</td>\n",
       "      <td>[(ok, lar, joking), (lar, joking, wif), (jokin...</td>\n",
       "    </tr>\n",
       "    <tr>\n",
       "      <th>2</th>\n",
       "      <td>spam</td>\n",
       "      <td>free entry in 2 a wkly comp to win fa cup fina...</td>\n",
       "      <td>[(free, entry), (entry, 2), (2, wkly), (wkly, ...</td>\n",
       "      <td>free entry 2 wkly comp win fa cup final tkts 2...</td>\n",
       "      <td>[(free, entry, 2), (entry, 2, wkly), (2, wkly,...</td>\n",
       "    </tr>\n",
       "  </tbody>\n",
       "</table>\n",
       "</div>"
      ],
      "text/plain": [
       "  label                                               text  \\\n",
       "0   ham  go until jurong point crazy available only in ...   \n",
       "1   ham                            ok lar joking wif u oni   \n",
       "2  spam  free entry in 2 a wkly comp to win fa cup fina...   \n",
       "\n",
       "                                             bigrams  \\\n",
       "0  [(go, jurong), (jurong, point), (point, crazy)...   \n",
       "1  [(ok, lar), (lar, joking), (joking, wif), (wif...   \n",
       "2  [(free, entry), (entry, 2), (2, wkly), (wkly, ...   \n",
       "\n",
       "                                           txt_clean  \\\n",
       "0  go jurong point crazy available bugis n great ...   \n",
       "1                            ok lar joking wif u oni   \n",
       "2  free entry 2 wkly comp win fa cup final tkts 2...   \n",
       "\n",
       "                                            trigrams  \n",
       "0  [(go, jurong, point), (jurong, point, crazy), ...  \n",
       "1  [(ok, lar, joking), (lar, joking, wif), (jokin...  \n",
       "2  [(free, entry, 2), (entry, 2, wkly), (2, wkly,...  "
      ]
     },
     "execution_count": 42,
     "metadata": {},
     "output_type": "execute_result"
    }
   ],
   "source": [
    "df.head(3)"
   ]
  },
  {
   "cell_type": "code",
   "execution_count": 43,
   "metadata": {},
   "outputs": [
    {
     "name": "stdout",
     "output_type": "stream",
     "text": [
      "trigrams of entire dataset\n"
     ]
    },
    {
     "data": {
      "text/plain": [
       "(', call, later)              41\n",
       "(sorry, ', call)              38\n",
       "(u, wan, 2)                   21\n",
       "(prize, guaranteed, call)     21\n",
       "(happy, new, year)            18\n",
       "(land, line, claim)           14\n",
       "(reply, call, 08000930705)    14\n",
       "(2003, account, statement)    13\n",
       "(pls, send, message)          13\n",
       "(private, 2003, account)      13\n",
       "(guaranteed, a1000, cash)     12\n",
       "(phone, right, pls)           12\n",
       "(shows, 800, unredeemed)      12\n",
       "(camcorder, reply, call)      12\n",
       "(cant, pick, phone)           12\n",
       "dtype: int64"
      ]
     },
     "execution_count": 43,
     "metadata": {},
     "output_type": "execute_result"
    }
   ],
   "source": [
    "trigrams = df.trigrams.apply(pd.Series).stack().tolist()\n",
    "print(\"trigrams of entire dataset\")\n",
    "pd.Series(trigrams).value_counts().head(15)"
   ]
  },
  {
   "cell_type": "code",
   "execution_count": 44,
   "metadata": {},
   "outputs": [
    {
     "name": "stdout",
     "output_type": "stream",
     "text": [
      "trigrams of spam\n"
     ]
    },
    {
     "data": {
      "text/plain": [
       "(prize, guaranteed, call)     21\n",
       "(reply, call, 08000930705)    14\n",
       "(land, line, claim)           14\n",
       "(private, 2003, account)      13\n",
       "(2003, account, statement)    13\n",
       "(camcorder, reply, call)      12\n",
       "(guaranteed, a1000, cash)     12\n",
       "(shows, 800, unredeemed)      12\n",
       "(free, entry, 2)              11\n",
       "(bonus, caller, prize)        11\n",
       "(tone, 4, ur)                 11\n",
       "(urgent, trying, contact)     11\n",
       "(every, week, txt)            11\n",
       "(please, call, customer)      11\n",
       "(cash, await, collection)     10\n",
       "dtype: int64"
      ]
     },
     "execution_count": 44,
     "metadata": {},
     "output_type": "execute_result"
    }
   ],
   "source": [
    "trigrams = df[df.label == 'spam'].trigrams.apply(pd.Series).stack().tolist()\n",
    "print(\"trigrams of spam\")\n",
    "pd.Series(trigrams).value_counts().head(15)"
   ]
  },
  {
   "cell_type": "code",
   "execution_count": null,
   "metadata": {},
   "outputs": [],
   "source": [
    "df = "
   ]
  }
 ],
 "metadata": {
  "kernelspec": {
   "display_name": "Python 3",
   "language": "python",
   "name": "python3"
  },
  "language_info": {
   "codemirror_mode": {
    "name": "ipython",
    "version": 3
   },
   "file_extension": ".py",
   "mimetype": "text/x-python",
   "name": "python",
   "nbconvert_exporter": "python",
   "pygments_lexer": "ipython3",
   "version": "3.7.3"
  }
 },
 "nbformat": 4,
 "nbformat_minor": 2
}
