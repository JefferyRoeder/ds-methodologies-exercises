{
 "cells": [
  {
   "cell_type": "code",
   "execution_count": 2,
   "metadata": {},
   "outputs": [],
   "source": [
    "import pandas as pd\n",
    "from requests import get\n",
    "from bs4 import BeautifulSoup\n",
    "import re\n",
    "import numpy as np"
   ]
  },
  {
   "cell_type": "code",
   "execution_count": null,
   "metadata": {},
   "outputs": [],
   "source": [
    "url = \"https://en.wikipedia.org/wiki/Wikipedia:Contents\"\n",
    "headers = {'User-Agent': \"Codeup Data Science Student\"}\n",
    "response = get(url,headers)"
   ]
  },
  {
   "cell_type": "code",
   "execution_count": null,
   "metadata": {},
   "outputs": [],
   "source": [
    "soup = BeautifulSoup(response.text)"
   ]
  },
  {
   "cell_type": "code",
   "execution_count": null,
   "metadata": {},
   "outputs": [],
   "source": [
    "soup.select(body > main > div:nth-child(1) > h3"
   ]
  },
  {
   "cell_type": "code",
   "execution_count": null,
   "metadata": {},
   "outputs": [],
   "source": [
    "soup.select(\"body > main > div:nth-child(1) > h3\")"
   ]
  },
  {
   "cell_type": "code",
   "execution_count": null,
   "metadata": {},
   "outputs": [],
   "source": [
    "wiki = soup.select(\"#portal > tbody > tr:nth-child(2) > td > ul:nth-child(11) > li:nth-child(1)\")"
   ]
  },
  {
   "cell_type": "code",
   "execution_count": null,
   "metadata": {},
   "outputs": [],
   "source": [
    "wiki"
   ]
  },
  {
   "cell_type": "code",
   "execution_count": null,
   "metadata": {},
   "outputs": [],
   "source": [
    "wiki[0].get_text()"
   ]
  },
  {
   "cell_type": "code",
   "execution_count": null,
   "metadata": {},
   "outputs": [],
   "source": [
    "url = \"https://codeup.com/codeups-data-science-career-accelerator-is-here/\"\n",
    "\n",
    "headers = {'User-Agent': 'Codeup Bayes Data Science'}\n",
    "response = get(url,headers=headers)"
   ]
  },
  {
   "cell_type": "code",
   "execution_count": null,
   "metadata": {},
   "outputs": [],
   "source": [
    "url = \"https://swgoh.gg/characters/darth-revan/gear-list/\"\n",
    "\n",
    "headers = {'User-Agent': 'Dont taze me bro'}\n",
    "response = get(url,headers=headers)"
   ]
  },
  {
   "cell_type": "code",
   "execution_count": null,
   "metadata": {},
   "outputs": [],
   "source": []
  },
  {
   "cell_type": "code",
   "execution_count": null,
   "metadata": {},
   "outputs": [],
   "source": [
    "gears = soup.select(\"body > div.container.p-t-sm > div.content-container > div.content-container-primary > ul > li:nth-child(3)\")"
   ]
  },
  {
   "cell_type": "code",
   "execution_count": null,
   "metadata": {},
   "outputs": [],
   "source": []
  },
  {
   "cell_type": "code",
   "execution_count": null,
   "metadata": {},
   "outputs": [],
   "source": [
    "gear[0].get_text().strip()"
   ]
  },
  {
   "cell_type": "code",
   "execution_count": null,
   "metadata": {},
   "outputs": [],
   "source": [
    "num = 2\n",
    "gear_req = []\n",
    "while num <= 70:\n",
    "        gear = soup.select(f\"body > div.container.p-t-sm > div.content-container > div.content-container-primary > ul > li:nth-child({num})\")\n",
    "        gear = gear[0].get_text().strip()\n",
    "        gear_req.append(gear)\n",
    "        num +=1\n",
    "        \n",
    "\n"
   ]
  },
  {
   "cell_type": "code",
   "execution_count": null,
   "metadata": {},
   "outputs": [],
   "source": [
    "gear = []\n",
    "for g in gear_req:\n",
    "    g = g.replace('\\n',\" \")\n",
    "    gear.append(g)\n",
    "    "
   ]
  },
  {
   "cell_type": "code",
   "execution_count": null,
   "metadata": {},
   "outputs": [],
   "source": [
    "df = []\n",
    "for g in gear:\n",
    "    g = pd.Series(g.split())\n",
    "    df.append(g)\n",
    "    "
   ]
  },
  {
   "cell_type": "code",
   "execution_count": null,
   "metadata": {},
   "outputs": [],
   "source": [
    "pd.DataFrame(df)"
   ]
  },
  {
   "cell_type": "code",
   "execution_count": null,
   "metadata": {},
   "outputs": [],
   "source": [
    "gear_num = []\n",
    "gear_name = []\n",
    "for g in gear:\n",
    "    num = re.findall(r'x\\d+',g)\n",
    "    name = \"\".join(re.findall(r'[^x\\d+]',g))\n",
    "    gear_num.append(num)\n",
    "    gear_name.append(name)"
   ]
  },
  {
   "cell_type": "code",
   "execution_count": null,
   "metadata": {},
   "outputs": [],
   "source": []
  },
  {
   "cell_type": "code",
   "execution_count": null,
   "metadata": {},
   "outputs": [],
   "source": [
    "#gear_num = np.array(gear_num)\n",
    "#gear_name = np.array(gear_name)\n",
    "df = pd.DataFrame()\n",
    "df['gear_num'] = gear_num\n",
    "df['gear_name'] = gear_name"
   ]
  },
  {
   "cell_type": "code",
   "execution_count": null,
   "metadata": {},
   "outputs": [],
   "source": [
    "df"
   ]
  },
  {
   "cell_type": "code",
   "execution_count": null,
   "metadata": {},
   "outputs": [],
   "source": [
    "body > div.container.p-t-sm > div.content-container > div.content-container-primary > ul > li:nth-child(70)"
   ]
  },
  {
   "cell_type": "code",
   "execution_count": null,
   "metadata": {},
   "outputs": [],
   "source": [
    "body > div.container.p-t-sm > div.content-container > div.content-container-primary > ul > li:nth-child(2)"
   ]
  },
  {
   "cell_type": "code",
   "execution_count": null,
   "metadata": {},
   "outputs": [],
   "source": [
    "url = \"https://codeup.com/codeups-data-science-career-accelerator-is-here/\"\n",
    "headers = {'User-Agent': \"Codeup Bayes Data Science\"}\n",
    "response = get(url,headers=headers)"
   ]
  },
  {
   "cell_type": "code",
   "execution_count": null,
   "metadata": {},
   "outputs": [],
   "source": [
    "soup = BeautifulSoup(response.text,'html.parser')"
   ]
  },
  {
   "cell_type": "code",
   "execution_count": null,
   "metadata": {},
   "outputs": [],
   "source": [
    "#pulls one blog from codeup.com\n",
    "url = \"https://codeup.com/codeups-data-science-career-accelerator-is-here/\"\n",
    "headers = {'User-Agent': \"Codeup Bayes Data Science\"}\n",
    "response = get(url,headers=headers)\n",
    "\n",
    "blogs = pd.DataFrame()\n",
    "body = pd.Series(soup.find('div',class_=\"mk-single-content\").get_text())\n",
    "title = pd.Series(soup.find('h1',class_=\"page-title\").get_text())\n",
    "blogs['title'] = title\n",
    "blogs['article'] = body"
   ]
  },
  {
   "cell_type": "code",
   "execution_count": null,
   "metadata": {},
   "outputs": [],
   "source": [
    "def get_blog_articles():\n",
    "    #loop to pull all codeup blogs\n",
    "    urls = ['https://codeup.com/codeups-data-science-career-accelerator-is-here/','https://codeup.com/data-science-myths/','https://codeup.com/data-science-vs-data-analytics-whats-the-difference/','https://codeup.com/10-tips-to-crush-it-at-the-sa-tech-job-fair/','https://codeup.com/competitor-bootcamps-are-closing-is-the-model-in-danger/']\n",
    "    headers = {'User-Agent': \"Codeup Bayes Data Science\"}\n",
    "\n",
    "    df = pd.DataFrame()\n",
    "    blogs = []\n",
    "    titles = []\n",
    "    for url in urls:\n",
    "\n",
    "        response = get(url,headers=headers)\n",
    "        soup = BeautifulSoup(response.text)\n",
    "        body = soup.find('div',class_=\"mk-single-content\").get_text()\n",
    "        if soup.find('h1',class_=\"page-title\") is not None:\n",
    "            title = soup.find('h1',class_=\"page-title\").get_text()\n",
    "        else:\n",
    "            title = np.nan\n",
    "\n",
    "        blogs.append(body)\n",
    "        titles.append(title)\n",
    "    df['title'] = pd.Series(titles)\n",
    "    df['article'] = pd.Series(blogs)\n",
    "    return df"
   ]
  },
  {
   "cell_type": "code",
   "execution_count": null,
   "metadata": {},
   "outputs": [],
   "source": [
    "get_blog_articles()"
   ]
  },
  {
   "cell_type": "code",
   "execution_count": null,
   "metadata": {},
   "outputs": [],
   "source": []
  },
  {
   "cell_type": "code",
   "execution_count": null,
   "metadata": {},
   "outputs": [],
   "source": [
    "title = pd.Series(title)"
   ]
  },
  {
   "cell_type": "code",
   "execution_count": null,
   "metadata": {},
   "outputs": [],
   "source": [
    "title = pd.Series(soup.find('h1',class_=\"page-title\").get_text())"
   ]
  },
  {
   "cell_type": "code",
   "execution_count": null,
   "metadata": {},
   "outputs": [],
   "source": [
    "title"
   ]
  },
  {
   "cell_type": "code",
   "execution_count": null,
   "metadata": {},
   "outputs": [],
   "source": [
    "url2 = 'https://codeup.com/blog/#1568342730221-d8453cd7-45ac'\n",
    "headers = {'User-Agent': \"Codeup Bayes Data Science\"}\n",
    "response2 = get(url2,headers=headers)"
   ]
  },
  {
   "cell_type": "code",
   "execution_count": null,
   "metadata": {},
   "outputs": [],
   "source": [
    "url = 'https://codeup.com/blog/'\n",
    "headers = {'User-Agent': \"Codeup Bayes Data Science\"}\n",
    "response = get(url,headers=headers)\n",
    "soup = BeautifulSoup(response.text)\n",
    "blogs = soup.find('div',class_=\"vc_tta-panel-body\")\n",
    "links = blogs.find_all(href=True)"
   ]
  },
  {
   "cell_type": "code",
   "execution_count": null,
   "metadata": {},
   "outputs": [],
   "source": []
  },
  {
   "cell_type": "code",
   "execution_count": null,
   "metadata": {},
   "outputs": [],
   "source": [
    "soup = BeautifulSoup(response.text)\n",
    "href_tags = soup.find_all(href=True)"
   ]
  },
  {
   "cell_type": "code",
   "execution_count": null,
   "metadata": {},
   "outputs": [],
   "source": [
    "href_tags"
   ]
  },
  {
   "cell_type": "code",
   "execution_count": null,
   "metadata": {},
   "outputs": [],
   "source": [
    "blogs = soup.find('div',class_=\"vc_tta-panel-body\")"
   ]
  },
  {
   "cell_type": "code",
   "execution_count": null,
   "metadata": {},
   "outputs": [],
   "source": [
    "links = blogs.find_all(href=True)"
   ]
  },
  {
   "cell_type": "code",
   "execution_count": null,
   "metadata": {},
   "outputs": [],
   "source": [
    "url = 'https://codeup.com/blog/'\n",
    "headers = {'User-Agent': \"Codeup Bayes Data Science\"}\n",
    "response = get(url,headers=headers)\n",
    "soup = BeautifulSoup(response.text)\n",
    "blogs = soup.find('div',class_=\"vc_tta-panel-body\")\n",
    "links = blogs.find_all(href=True)\n",
    "\n",
    "all_links = [link.attrs['href'] for link in links if re.findall(r'\\d+\\/\\d+',link.attrs['href']) == []]"
   ]
  },
  {
   "cell_type": "code",
   "execution_count": null,
   "metadata": {},
   "outputs": [],
   "source": [
    "all_links"
   ]
  },
  {
   "cell_type": "code",
   "execution_count": null,
   "metadata": {},
   "outputs": [],
   "source": [
    "if re.findall(r'\\d+\\/\\d+',all_links[0]):\n",
    "    print(all_links[0])"
   ]
  },
  {
   "cell_type": "code",
   "execution_count": null,
   "metadata": {},
   "outputs": [],
   "source": [
    "len(re.findall(r'\\d+\\/\\d+',all_links[3]))"
   ]
  },
  {
   "cell_type": "code",
   "execution_count": null,
   "metadata": {},
   "outputs": [],
   "source": [
    "len('https://codeup.com/')"
   ]
  },
  {
   "cell_type": "code",
   "execution_count": null,
   "metadata": {},
   "outputs": [],
   "source": [
    "all_links = []\n",
    "for link in links:\n",
    "    link = link.attrs['href']\n",
    "    all_links.append(link)\n",
    "all_links\n",
    "\n",
    "\n",
    "all_links = [link.attrs['href'] for link in links]\n",
    "\n",
    "def get_blog_articles():\n",
    "    #loop to pull all codeup blogs\n",
    "    urls = ['https://codeup.com/codeups-data-science-career-accelerator-is-here/','https://codeup.com/data-science-myths/','https://codeup.com/data-science-vs-data-analytics-whats-the-difference/','https://codeup.com/10-tips-to-crush-it-at-the-sa-tech-job-fair/','https://codeup.com/competitor-bootcamps-are-closing-is-the-model-in-danger/']\n",
    "    headers = {'User-Agent': \"Codeup Bayes Data Science\"}\n",
    "\n",
    "    df = pd.DataFrame()\n",
    "    blogs = []\n",
    "    titles = []\n",
    "    for url in urls:\n",
    "\n",
    "        response = get(url,headers=headers)\n",
    "        soup = BeautifulSoup(response.text)\n",
    "        body = soup.find('div',class_=\"mk-single-content\").get_text()\n",
    "        if soup.find('h1',class_=\"page-title\") is not None:\n",
    "            title = soup.find('h1',class_=\"page-title\").get_text()\n",
    "        else:\n",
    "            title = np.nan\n",
    "\n",
    "        blogs.append(body)\n",
    "        titles.append(title)\n",
    "    df['title'] = pd.Series(titles)\n",
    "    df['article'] = pd.Series(blogs)\n",
    "    return df"
   ]
  },
  {
   "cell_type": "code",
   "execution_count": 38,
   "metadata": {},
   "outputs": [],
   "source": [
    "def get_all_blogs():\n",
    "    url = 'https://codeup.com/blog/'\n",
    "    headers = {'User-Agent': \"Codeup Bayes Data Science\"}\n",
    "    response = get(url,headers=headers)\n",
    "    soup = BeautifulSoup(response.text)\n",
    "    blogs = soup.find('div',class_=\"vc_tta-panel-body\")\n",
    "    links = blogs.find_all(href=True)\n",
    "\n",
    "    all_links = [link.attrs['href'] for link in links if re.findall(r'\\d+\\/\\d+',link.attrs['href'])== [] and len(link.attrs['href'])>1]\n",
    "    all_links = list(set(all_list))\n",
    "    #loop to pull all codeup blogs\n",
    "    #urls = ['https://codeup.com/codeups-data-science-career-accelerator-is-here/','https://codeup.com/data-science-myths/','https://codeup.com/data-science-vs-data-analytics-whats-the-difference/','https://codeup.com/10-tips-to-crush-it-at-the-sa-tech-job-fair/','https://codeup.com/competitor-bootcamps-are-closing-is-the-model-in-danger/']\n",
    "\n",
    "    df = pd.DataFrame()\n",
    "    blogs = []\n",
    "    titles = []\n",
    "    for link in all_links:\n",
    "\n",
    "        response = get(link,headers=headers)\n",
    "        soup = BeautifulSoup(response.text)\n",
    "        body = soup.find('div',class_=\"mk-single-content\").get_text()\n",
    "        if soup.find('h1',class_=\"page-title\") is not None:\n",
    "            title = soup.find('h1',class_=\"page-title\").get_text()\n",
    "        else:\n",
    "            title = np.nan\n",
    "\n",
    "        blogs.append(body)\n",
    "        titles.append(title)\n",
    "    df['title'] = pd.Series(titles)\n",
    "    df['article'] = pd.Series(blogs)\n",
    "    return df"
   ]
  },
  {
   "cell_type": "code",
   "execution_count": 39,
   "metadata": {},
   "outputs": [],
   "source": [
    "df = get_all_blogs()"
   ]
  },
  {
   "cell_type": "code",
   "execution_count": 40,
   "metadata": {},
   "outputs": [
    {
     "data": {
      "text/html": [
       "<div>\n",
       "<style scoped>\n",
       "    .dataframe tbody tr th:only-of-type {\n",
       "        vertical-align: middle;\n",
       "    }\n",
       "\n",
       "    .dataframe tbody tr th {\n",
       "        vertical-align: top;\n",
       "    }\n",
       "\n",
       "    .dataframe thead th {\n",
       "        text-align: right;\n",
       "    }\n",
       "</style>\n",
       "<table border=\"1\" class=\"dataframe\">\n",
       "  <thead>\n",
       "    <tr style=\"text-align: right;\">\n",
       "      <th></th>\n",
       "      <th>title</th>\n",
       "      <th>article</th>\n",
       "    </tr>\n",
       "  </thead>\n",
       "  <tbody>\n",
       "    <tr>\n",
       "      <th>0</th>\n",
       "      <td>From Bootcamp to Bootcamp; How I found purpose...</td>\n",
       "      <td>\\nWhen I was 17 years old an Army recruiter ca...</td>\n",
       "    </tr>\n",
       "    <tr>\n",
       "      <th>1</th>\n",
       "      <td>Quickpath: Solving the Data Science Talent Sho...</td>\n",
       "      <td>\\nAfter the graduation of our first Codeup Dat...</td>\n",
       "    </tr>\n",
       "    <tr>\n",
       "      <th>2</th>\n",
       "      <td>Why San Antonio Has More Than Tacos To Offer</td>\n",
       "      <td>\\nBefore moving to San Antonio, I was slightly...</td>\n",
       "    </tr>\n",
       "    <tr>\n",
       "      <th>3</th>\n",
       "      <td>A Quest Through Codeup</td>\n",
       "      <td>\\nCodeup isn’t a cheap program – we know that....</td>\n",
       "    </tr>\n",
       "    <tr>\n",
       "      <th>4</th>\n",
       "      <td>Codeup Dallas 2020</td>\n",
       "      <td>\\n11/20/2019 UPDATE: Codeup Dallas is approved...</td>\n",
       "    </tr>\n",
       "    <tr>\n",
       "      <th>5</th>\n",
       "      <td>Everyday Encounters with Data Science</td>\n",
       "      <td>\\nYou come home from work, tired to the bone a...</td>\n",
       "    </tr>\n",
       "    <tr>\n",
       "      <th>6</th>\n",
       "      <td>Codeup Student Check In: Month 3</td>\n",
       "      <td>\\nPhoto by Jon Garcia\\nCodeup welcomed the Wra...</td>\n",
       "    </tr>\n",
       "    <tr>\n",
       "      <th>7</th>\n",
       "      <td>Finding the Perfect Coding Bootcamp Fit for Me</td>\n",
       "      <td>\\n \\n\\n\\nBy Marcella Munter\\nI looked at Codeu...</td>\n",
       "    </tr>\n",
       "    <tr>\n",
       "      <th>8</th>\n",
       "      <td>5 Common Excuses Keeping You From Breaking Int...</td>\n",
       "      <td>\\nJust a few months before starting at Codeup ...</td>\n",
       "    </tr>\n",
       "  </tbody>\n",
       "</table>\n",
       "</div>"
      ],
      "text/plain": [
       "                                               title  \\\n",
       "0  From Bootcamp to Bootcamp; How I found purpose...   \n",
       "1  Quickpath: Solving the Data Science Talent Sho...   \n",
       "2       Why San Antonio Has More Than Tacos To Offer   \n",
       "3                             A Quest Through Codeup   \n",
       "4                                 Codeup Dallas 2020   \n",
       "5              Everyday Encounters with Data Science   \n",
       "6                   Codeup Student Check In: Month 3   \n",
       "7     Finding the Perfect Coding Bootcamp Fit for Me   \n",
       "8  5 Common Excuses Keeping You From Breaking Int...   \n",
       "\n",
       "                                             article  \n",
       "0  \\nWhen I was 17 years old an Army recruiter ca...  \n",
       "1  \\nAfter the graduation of our first Codeup Dat...  \n",
       "2  \\nBefore moving to San Antonio, I was slightly...  \n",
       "3  \\nCodeup isn’t a cheap program – we know that....  \n",
       "4  \\n11/20/2019 UPDATE: Codeup Dallas is approved...  \n",
       "5  \\nYou come home from work, tired to the bone a...  \n",
       "6  \\nPhoto by Jon Garcia\\nCodeup welcomed the Wra...  \n",
       "7  \\n \\n\\n\\nBy Marcella Munter\\nI looked at Codeu...  \n",
       "8  \\nJust a few months before starting at Codeup ...  "
      ]
     },
     "execution_count": 40,
     "metadata": {},
     "output_type": "execute_result"
    }
   ],
   "source": [
    "df"
   ]
  },
  {
   "cell_type": "code",
   "execution_count": 31,
   "metadata": {},
   "outputs": [],
   "source": [
    "url = 'https://codeup.com/blog/'\n",
    "headers = {'User-Agent': \"Codeup Bayes Data Science\"}\n",
    "response = get(url,headers=headers)\n",
    "soup = BeautifulSoup(response.text)\n",
    "blogs = soup.find('div',class_=\"vc_tta-panel-body\")\n",
    "links = blogs.find_all(href=True)\n",
    "\n",
    "all_links = [link.attrs['href'] for link in links if re.findall(r'\\d+\\/\\d+',link.attrs['href'])== [] and len(link.attrs['href'])>1]\n"
   ]
  },
  {
   "cell_type": "code",
   "execution_count": 32,
   "metadata": {},
   "outputs": [
    {
     "data": {
      "text/plain": [
       "['https://codeup.com/a-quest-through-codeup/',\n",
       " 'https://codeup.com/a-quest-through-codeup/',\n",
       " 'https://codeup.com/a-quest-through-codeup/',\n",
       " 'https://codeup.com/a-quest-through-codeup/',\n",
       " 'https://codeup.com/quickpath-solving-the-data-science-talent-shortage-with-codeup/',\n",
       " 'https://codeup.com/quickpath-solving-the-data-science-talent-shortage-with-codeup/',\n",
       " 'https://codeup.com/quickpath-solving-the-data-science-talent-shortage-with-codeup/',\n",
       " 'https://codeup.com/quickpath-solving-the-data-science-talent-shortage-with-codeup/',\n",
       " 'https://codeup.com/codeup-dallas-2020/',\n",
       " 'https://codeup.com/codeup-dallas-2020/',\n",
       " 'https://codeup.com/codeup-dallas-2020/',\n",
       " 'https://codeup.com/codeup-dallas-2020/',\n",
       " 'https://codeup.com/from-bootcamp-to-bootcamp-how-i-found-purpose-through-coding/',\n",
       " 'https://codeup.com/from-bootcamp-to-bootcamp-how-i-found-purpose-through-coding/',\n",
       " 'https://codeup.com/from-bootcamp-to-bootcamp-how-i-found-purpose-through-coding/',\n",
       " 'https://codeup.com/from-bootcamp-to-bootcamp-how-i-found-purpose-through-coding/',\n",
       " 'https://codeup.com/5-common-excuses-keeping-you-from-breaking-into-the-tech-field/',\n",
       " 'https://codeup.com/5-common-excuses-keeping-you-from-breaking-into-the-tech-field/',\n",
       " 'https://codeup.com/5-common-excuses-keeping-you-from-breaking-into-the-tech-field/',\n",
       " 'https://codeup.com/5-common-excuses-keeping-you-from-breaking-into-the-tech-field/',\n",
       " 'https://codeup.com/why-san-antonio-has-more-than-tacos-to-offer/',\n",
       " 'https://codeup.com/why-san-antonio-has-more-than-tacos-to-offer/',\n",
       " 'https://codeup.com/why-san-antonio-has-more-than-tacos-to-offer/',\n",
       " 'https://codeup.com/why-san-antonio-has-more-than-tacos-to-offer/',\n",
       " 'https://codeup.com/everyday-encounters-with-data-science/',\n",
       " 'https://codeup.com/everyday-encounters-with-data-science/',\n",
       " 'https://codeup.com/everyday-encounters-with-data-science/',\n",
       " 'https://codeup.com/everyday-encounters-with-data-science/',\n",
       " 'https://codeup.com/path-codeup-coding-bootcamps/',\n",
       " 'https://codeup.com/path-codeup-coding-bootcamps/',\n",
       " 'https://codeup.com/path-codeup-coding-bootcamps/',\n",
       " 'https://codeup.com/path-codeup-coding-bootcamps/',\n",
       " 'https://codeup.com/codeup-student-check-in-month-3/',\n",
       " 'https://codeup.com/codeup-student-check-in-month-3/',\n",
       " 'https://codeup.com/codeup-student-check-in-month-3/',\n",
       " 'https://codeup.com/codeup-student-check-in-month-3/']"
      ]
     },
     "execution_count": 32,
     "metadata": {},
     "output_type": "execute_result"
    }
   ],
   "source": [
    "all_links"
   ]
  },
  {
   "cell_type": "code",
   "execution_count": 15,
   "metadata": {},
   "outputs": [
    {
     "data": {
      "text/plain": [
       "'#'"
      ]
     },
     "execution_count": 15,
     "metadata": {},
     "output_type": "execute_result"
    }
   ],
   "source": [
    "all_links[-1].split('.com',1)[0]"
   ]
  },
  {
   "cell_type": "code",
   "execution_count": null,
   "metadata": {},
   "outputs": [],
   "source": [
    "all_links = [link for link in links if (len(link.split('.com',1)[0]) > 4)]"
   ]
  },
  {
   "cell_type": "markdown",
   "metadata": {},
   "source": [
    "dfdsfsf"
   ]
  }
 ],
 "metadata": {
  "kernelspec": {
   "display_name": "Python 3",
   "language": "python",
   "name": "python3"
  },
  "language_info": {
   "codemirror_mode": {
    "name": "ipython",
    "version": 3
   },
   "file_extension": ".py",
   "mimetype": "text/x-python",
   "name": "python",
   "nbconvert_exporter": "python",
   "pygments_lexer": "ipython3",
   "version": "3.7.3"
  }
 },
 "nbformat": 4,
 "nbformat_minor": 2
}
