{
 "cells": [
  {
   "cell_type": "code",
   "execution_count": 31,
   "metadata": {},
   "outputs": [],
   "source": [
    "import env\n",
    "import acquire\n",
    "import split_scale\n",
    "import pandas as pd\n",
    "import numpy as np\n",
    "import seaborn as sns\n",
    "import matplotlib.pyplot as plt\n",
    "import itertools\n",
    "\n",
    "from sklearn.model_selection import train_test_split\n",
    "from sklearn.impute import SimpleImputer\n",
    "from sklearn.preprocessing import LabelEncoder, OneHotEncoder, MinMaxScaler"
   ]
  },
  {
   "cell_type": "code",
   "execution_count": null,
   "metadata": {},
   "outputs": [],
   "source": [
    "#df_iris = acquire.wrangle_iris()"
   ]
  },
  {
   "cell_type": "code",
   "execution_count": null,
   "metadata": {},
   "outputs": [],
   "source": [
    "df_excel, df_excel_sample = acquire.excel_reader()"
   ]
  },
  {
   "cell_type": "code",
   "execution_count": null,
   "metadata": {
    "scrolled": true
   },
   "outputs": [],
   "source": []
  },
  {
   "cell_type": "code",
   "execution_count": null,
   "metadata": {},
   "outputs": [],
   "source": []
  },
  {
   "cell_type": "code",
   "execution_count": null,
   "metadata": {},
   "outputs": [],
   "source": [
    "df_google, unique_categories = acquire.google_sheet()"
   ]
  },
  {
   "cell_type": "code",
   "execution_count": null,
   "metadata": {},
   "outputs": [],
   "source": []
  },
  {
   "cell_type": "code",
   "execution_count": null,
   "metadata": {},
   "outputs": [],
   "source": [
    "print('y')"
   ]
  },
  {
   "cell_type": "code",
   "execution_count": null,
   "metadata": {},
   "outputs": [],
   "source": [
    "import warnings\n",
    "warnings.filterwarnings(\"ignore\")\n",
    "\n",
    "import pandas as pd\n",
    "import numpy as np\n",
    "import split_scale\n",
    "from sklearn.preprocessing import StandardScaler, MinMaxScaler\n",
    "import wrangle\n",
    "import env\n",
    "import seaborn as sns\n",
    "\n",
    "url = env.get_db_url('iris_db')\n",
    "#\n",
    "def prep_iris():\n",
    "    df = pd.read_sql(\"\"\"\n",
    "\n",
    "SELECT *\n",
    "FROM measurements m\n",
    "JOIN species s on s.species_id = m.species_id;\n",
    "\"\"\"\n",
    ",url)\n",
    "    print(df.head(3))\n",
    "    \n",
    "    print(df.shape)\n",
    "    \n",
    "    print(df.columns)\n",
    "    \n",
    "    print(df.dtypes)\n",
    "    \n",
    "    print(df.describe())\n",
    "    return df\n",
    "\n",
    "\n",
    "def excel_reader():\n",
    "    df_excel = pd.read_excel('Excel_Exercises.xlsx',sheet_name='Table1_CustDetails')\n",
    "    df_excel_sample = pd.read_excel('Excel_Exercises.xlsx',sheet_name='Table1_CustDetails',nrows=100)\n",
    "    print(df_excel.columns[0:5])\n",
    "    print(df_excel.dtypes[df_excel.dtypes == object])\n",
    "    print(df_excel.describe().loc[['min','max']])\n",
    "    return df_excel, df_excel_sample\n",
    "\n",
    "\n",
    "def google_sheet():\n",
    "    google_sheet = \"https://docs.google.com/spreadsheets/d/1Uhtml8KY19LILuZsrDtlsHHDC9wuDGUSe8LTEwvdI5g/edit#gid=341089357\"\n",
    "    google_sheet = google_sheet.replace(\"edit#gid\",\"export?format=csv&gid\")\n",
    "    df_google = pd.read_csv(google_sheet)\n",
    "    print(df_google.iloc[0:3])\n",
    "    print(df_google.columns)\n",
    "    print(df_google.dtypes)\n",
    "    print(df_google.describe(include =[np.number]))\n",
    "    unique_categories = df_google[['Survived','Pclass','Sex','SibSp','Embarked']]\n",
    "    unique_categories = [unique_categories[i].unique().tolist() for i in unique_categories.columns]\n",
    "    print(unique_categories)\n",
    "    return df_google, unique_categories\n",
    "\n",
    "\n",
    "url = env.get_db_url('titanic_db')\n",
    "\n",
    "def wrangle_titanic():\n",
    "    df = pd.read_sql(\"\"\"\n",
    "\n",
    "SELECT *\n",
    "FROM passengers\n",
    "\"\"\"\n",
    ",url)\n",
    "    return df\n",
    "\n",
    "\n",
    "def wrangle_iris2():\n",
    "    df = pd.read_sql(\"\"\"\n",
    "\n",
    "SELECT *\n",
    "FROM measurements m\n",
    "JOIN species s on s.species_id = m.species_id;\n",
    "\"\"\"\n",
    ",url)"
   ]
  },
  {
   "cell_type": "code",
   "execution_count": null,
   "metadata": {},
   "outputs": [],
   "source": []
  },
  {
   "cell_type": "code",
   "execution_count": null,
   "metadata": {},
   "outputs": [],
   "source": [
    "#df_iris = acquire.wrangle_iris()"
   ]
  },
  {
   "cell_type": "code",
   "execution_count": null,
   "metadata": {
    "scrolled": true
   },
   "outputs": [],
   "source": [
    "#df_iris.head(1)"
   ]
  },
  {
   "cell_type": "code",
   "execution_count": null,
   "metadata": {},
   "outputs": [],
   "source": [
    "#df_iris.drop(['species_id','measurement_id'],axis=1,inplace=True)"
   ]
  },
  {
   "cell_type": "code",
   "execution_count": null,
   "metadata": {},
   "outputs": [],
   "source": [
    "#df_iris.head(2)"
   ]
  },
  {
   "cell_type": "code",
   "execution_count": null,
   "metadata": {},
   "outputs": [],
   "source": [
    "#df_iris.rename(columns={'species_name':'species'},inplace=True)"
   ]
  },
  {
   "cell_type": "code",
   "execution_count": null,
   "metadata": {},
   "outputs": [],
   "source": [
    "#int_encoder = LabelEncoder()\n",
    "#int_encoder.fit(df_iris.species)\n",
    "#df_iris.species = int_encoder.transform(df_iris.species)"
   ]
  },
  {
   "cell_type": "code",
   "execution_count": null,
   "metadata": {},
   "outputs": [],
   "source": [
    "df_iris = acquire.prep_iris()"
   ]
  },
  {
   "cell_type": "code",
   "execution_count": null,
   "metadata": {},
   "outputs": [],
   "source": []
  },
  {
   "cell_type": "code",
   "execution_count": null,
   "metadata": {},
   "outputs": [],
   "source": [
    "df_t = acquire.wrangle_titanic()"
   ]
  },
  {
   "cell_type": "code",
   "execution_count": null,
   "metadata": {},
   "outputs": [],
   "source": [
    "\n",
    "df_t.head(2)"
   ]
  },
  {
   "cell_type": "code",
   "execution_count": null,
   "metadata": {},
   "outputs": [],
   "source": [
    "df_t.drop(columns=['deck'],inplace=True)"
   ]
  },
  {
   "cell_type": "code",
   "execution_count": null,
   "metadata": {},
   "outputs": [],
   "source": [
    "df_t.isnull().sum()"
   ]
  },
  {
   "cell_type": "code",
   "execution_count": null,
   "metadata": {},
   "outputs": [],
   "source": [
    "df_t.fillna(np.nan,inplace=True)"
   ]
  },
  {
   "cell_type": "code",
   "execution_count": null,
   "metadata": {},
   "outputs": [],
   "source": [
    "imp_mode = SimpleImputer(missing_values=np.nan,strategy='most_frequent')\n",
    "\n",
    "imp_mode.fit(df_t[['embarked']])\n",
    "\n",
    "df_t['embarked'] = imp_mode.transform(df_t[['embarked']])"
   ]
  },
  {
   "cell_type": "code",
   "execution_count": null,
   "metadata": {},
   "outputs": [],
   "source": [
    "imp_mode.fit(df_t[['embark_town']])\n",
    "df_t['embark_town'] = imp_mode.transform(df_t[['embark_town']])"
   ]
  },
  {
   "cell_type": "code",
   "execution_count": null,
   "metadata": {},
   "outputs": [],
   "source": [
    "scaler = MinMaxScaler().fit(df_t[['age','fare']])"
   ]
  },
  {
   "cell_type": "code",
   "execution_count": null,
   "metadata": {},
   "outputs": [],
   "source": [
    "df_t_scaled = scaler.transform(df_t[['age','fare']])"
   ]
  },
  {
   "cell_type": "code",
   "execution_count": null,
   "metadata": {},
   "outputs": [],
   "source": [
    "df_t.head(2)"
   ]
  },
  {
   "cell_type": "code",
   "execution_count": null,
   "metadata": {},
   "outputs": [],
   "source": [
    "df_t_scaled = pd.DataFrame(df_t_scaled)"
   ]
  },
  {
   "cell_type": "code",
   "execution_count": null,
   "metadata": {},
   "outputs": [],
   "source": [
    "df_t = pd.concat([df_t,df_t_scaled],axis=1,join='inner')"
   ]
  },
  {
   "cell_type": "code",
   "execution_count": null,
   "metadata": {},
   "outputs": [],
   "source": [
    "df_t.rename(columns={0:'age_scaled',1:'fare_scaled'},inplace=True)"
   ]
  },
  {
   "cell_type": "code",
   "execution_count": null,
   "metadata": {},
   "outputs": [],
   "source": [
    "df_t.head(2)"
   ]
  },
  {
   "cell_type": "code",
   "execution_count": null,
   "metadata": {},
   "outputs": [],
   "source": [
    "df = acquire.prep_titanic()"
   ]
  },
  {
   "cell_type": "code",
   "execution_count": null,
   "metadata": {},
   "outputs": [],
   "source": [
    "df.head(2)"
   ]
  },
  {
   "cell_type": "code",
   "execution_count": null,
   "metadata": {},
   "outputs": [],
   "source": [
    "sns.distplot(df.fare,bins=None)"
   ]
  },
  {
   "cell_type": "code",
   "execution_count": 3,
   "metadata": {},
   "outputs": [],
   "source": [
    "df = prep.prep_iris()"
   ]
  },
  {
   "cell_type": "code",
   "execution_count": 5,
   "metadata": {},
   "outputs": [],
   "source": [
    "#split test train\n",
    "train_df,test_df = split_scale.split_my_data(df,train_ratio=.7,seed=123)"
   ]
  },
  {
   "cell_type": "code",
   "execution_count": 10,
   "metadata": {},
   "outputs": [
    {
     "data": {
      "text/html": [
       "<div>\n",
       "<style scoped>\n",
       "    .dataframe tbody tr th:only-of-type {\n",
       "        vertical-align: middle;\n",
       "    }\n",
       "\n",
       "    .dataframe tbody tr th {\n",
       "        vertical-align: top;\n",
       "    }\n",
       "\n",
       "    .dataframe thead th {\n",
       "        text-align: right;\n",
       "    }\n",
       "</style>\n",
       "<table border=\"1\" class=\"dataframe\">\n",
       "  <thead>\n",
       "    <tr style=\"text-align: right;\">\n",
       "      <th></th>\n",
       "      <th>sepal_length</th>\n",
       "      <th>sepal_width</th>\n",
       "      <th>petal_length</th>\n",
       "      <th>petal_width</th>\n",
       "      <th>species</th>\n",
       "    </tr>\n",
       "  </thead>\n",
       "  <tbody>\n",
       "    <tr>\n",
       "      <th>count</th>\n",
       "      <td>105.000000</td>\n",
       "      <td>105.000000</td>\n",
       "      <td>105.000000</td>\n",
       "      <td>105.000000</td>\n",
       "      <td>105.000000</td>\n",
       "    </tr>\n",
       "    <tr>\n",
       "      <th>mean</th>\n",
       "      <td>5.869524</td>\n",
       "      <td>3.050476</td>\n",
       "      <td>3.837143</td>\n",
       "      <td>1.232381</td>\n",
       "      <td>1.009524</td>\n",
       "    </tr>\n",
       "    <tr>\n",
       "      <th>std</th>\n",
       "      <td>0.796039</td>\n",
       "      <td>0.409062</td>\n",
       "      <td>1.714265</td>\n",
       "      <td>0.739217</td>\n",
       "      <td>0.790511</td>\n",
       "    </tr>\n",
       "    <tr>\n",
       "      <th>min</th>\n",
       "      <td>4.400000</td>\n",
       "      <td>2.200000</td>\n",
       "      <td>1.000000</td>\n",
       "      <td>0.100000</td>\n",
       "      <td>0.000000</td>\n",
       "    </tr>\n",
       "    <tr>\n",
       "      <th>25%</th>\n",
       "      <td>5.100000</td>\n",
       "      <td>2.800000</td>\n",
       "      <td>1.600000</td>\n",
       "      <td>0.400000</td>\n",
       "      <td>0.000000</td>\n",
       "    </tr>\n",
       "    <tr>\n",
       "      <th>50%</th>\n",
       "      <td>5.800000</td>\n",
       "      <td>3.000000</td>\n",
       "      <td>4.400000</td>\n",
       "      <td>1.300000</td>\n",
       "      <td>1.000000</td>\n",
       "    </tr>\n",
       "    <tr>\n",
       "      <th>75%</th>\n",
       "      <td>6.400000</td>\n",
       "      <td>3.300000</td>\n",
       "      <td>5.100000</td>\n",
       "      <td>1.800000</td>\n",
       "      <td>2.000000</td>\n",
       "    </tr>\n",
       "    <tr>\n",
       "      <th>max</th>\n",
       "      <td>7.700000</td>\n",
       "      <td>4.400000</td>\n",
       "      <td>6.900000</td>\n",
       "      <td>2.500000</td>\n",
       "      <td>2.000000</td>\n",
       "    </tr>\n",
       "  </tbody>\n",
       "</table>\n",
       "</div>"
      ],
      "text/plain": [
       "       sepal_length  sepal_width  petal_length  petal_width     species\n",
       "count    105.000000   105.000000    105.000000   105.000000  105.000000\n",
       "mean       5.869524     3.050476      3.837143     1.232381    1.009524\n",
       "std        0.796039     0.409062      1.714265     0.739217    0.790511\n",
       "min        4.400000     2.200000      1.000000     0.100000    0.000000\n",
       "25%        5.100000     2.800000      1.600000     0.400000    0.000000\n",
       "50%        5.800000     3.000000      4.400000     1.300000    1.000000\n",
       "75%        6.400000     3.300000      5.100000     1.800000    2.000000\n",
       "max        7.700000     4.400000      6.900000     2.500000    2.000000"
      ]
     },
     "execution_count": 10,
     "metadata": {},
     "output_type": "execute_result"
    }
   ],
   "source": [
    "train_df.describe()"
   ]
  },
  {
   "cell_type": "code",
   "execution_count": 26,
   "metadata": {},
   "outputs": [
    {
     "data": {
      "image/png": "[encoded data removed]",
      "text/plain": [
       "<Figure size 576x576 with 1 Axes>"
      ]
     },
     "metadata": {},
     "output_type": "display_data"
    }
   ],
   "source": [
    "sns.set(style=\"whitegrid\", palette=\"muted\")\n",
    "\n",
    "# \"Melt\" the dataset to \"long-form\" representation\n",
    "df_melt = pd.melt(train_df[['sepal_length','sepal_width','petal_length','petal_width','species']], \"species\", var_name=\"measurement\")\n",
    "\n",
    "plt.figure(figsize=(8,8))\n",
    "# Draw a categorical scatterplot to show each observation\n",
    "p = sns.swarmplot(x=\"measurement\", y=\"value\", hue=\"species\",\n",
    "              palette=[\"r\", \"c\", \"y\"], data=df_melt)\n",
    "#p.set(yscale=\"log\")\n",
    "\n",
    "plt.show()"
   ]
  },
  {
   "cell_type": "code",
   "execution_count": 57,
   "metadata": {},
   "outputs": [],
   "source": [
    "train_df['sepal_area'] = train_df.sepal_length * train_df.sepal_width\n",
    "train_df['petal_area'] = train_df.petal_length * train_df.petal_width"
   ]
  },
  {
   "cell_type": "code",
   "execution_count": 64,
   "metadata": {},
   "outputs": [
    {
     "data": {
      "image/png": "[encoded data removed]",
      "text/plain": [
       "<Figure size 432x288 with 1 Axes>"
      ]
     },
     "metadata": {},
     "output_type": "display_data"
    }
   ],
   "source": [
    "ax = sns.scatterplot(x=\"petal_length\", y=\"sepal_width\", data=df,hue='species')"
   ]
  },
  {
   "cell_type": "code",
   "execution_count": 59,
   "metadata": {},
   "outputs": [],
   "source": [
    "train_df_scatter = list(itertools.combinations(train_df.columns,2))\n"
   ]
  },
  {
   "cell_type": "code",
   "execution_count": 60,
   "metadata": {},
   "outputs": [
    {
     "data": {
      "text/plain": [
       "[('sepal_length', 'sepal_width'),\n",
       " ('sepal_length', 'petal_length'),\n",
       " ('sepal_length', 'petal_width'),\n",
       " ('sepal_length', 'species'),\n",
       " ('sepal_length', 'sepal_area'),\n",
       " ('sepal_length', 'petal_area'),\n",
       " ('sepal_width', 'petal_length'),\n",
       " ('sepal_width', 'petal_width'),\n",
       " ('sepal_width', 'species'),\n",
       " ('sepal_width', 'sepal_area'),\n",
       " ('sepal_width', 'petal_area'),\n",
       " ('petal_length', 'petal_width'),\n",
       " ('petal_length', 'species'),\n",
       " ('petal_length', 'sepal_area'),\n",
       " ('petal_length', 'petal_area'),\n",
       " ('petal_width', 'species'),\n",
       " ('petal_width', 'sepal_area'),\n",
       " ('petal_width', 'petal_area'),\n",
       " ('species', 'sepal_area'),\n",
       " ('species', 'petal_area'),\n",
       " ('sepal_area', 'petal_area')]"
      ]
     },
     "execution_count": 60,
     "metadata": {},
     "output_type": "execute_result"
    }
   ],
   "source": [
    "train_df_scatter"
   ]
  },
  {
   "cell_type": "code",
   "execution_count": 56,
   "metadata": {},
   "outputs": [
    {
     "data": {
      "text/plain": [
       "[('sepal_length', 'petal_length'),\n",
       " ('sepal_length', 'petal_width'),\n",
       " ('sepal_width', 'petal_length'),\n",
       " ('sepal_width', 'petal_width')]"
      ]
     },
     "execution_count": 56,
     "metadata": {},
     "output_type": "execute_result"
    }
   ],
   "source": []
  },
  {
   "cell_type": "code",
   "execution_count": null,
   "metadata": {},
   "outputs": [],
   "source": []
  }
 ],
 "metadata": {
  "kernelspec": {
   "display_name": "Python 3",
   "language": "python",
   "name": "python3"
  },
  "language_info": {
   "codemirror_mode": {
    "name": "ipython",
    "version": 3
   },
   "file_extension": ".py",
   "mimetype": "text/x-python",
   "name": "python",
   "nbconvert_exporter": "python",
   "pygments_lexer": "ipython3",
   "version": "3.7.3"
  }
 },
 "nbformat": 4,
 "nbformat_minor": 2
}
