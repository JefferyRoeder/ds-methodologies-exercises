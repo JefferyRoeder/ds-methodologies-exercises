{
 "cells": [
  {
   "cell_type": "code",
   "execution_count": 1,
   "metadata": {},
   "outputs": [],
   "source": [
    "import env\n",
    "import acquire\n",
    "import split_scale\n",
    "import pandas as pd\n",
    "import numpy as np"
   ]
  },
  {
   "cell_type": "code",
   "execution_count": 2,
   "metadata": {},
   "outputs": [
    {
     "name": "stdout",
     "output_type": "stream",
     "text": [
      "   measurement_id  sepal_length  sepal_width  petal_length  petal_width  \\\n",
      "0               1           5.1          3.5           1.4          0.2   \n",
      "1               2           4.9          3.0           1.4          0.2   \n",
      "2               3           4.7          3.2           1.3          0.2   \n",
      "\n",
      "   species_id  species_id species_name  \n",
      "0           1           1       setosa  \n",
      "1           1           1       setosa  \n",
      "2           1           1       setosa  \n",
      "(150, 8)\n",
      "Index(['measurement_id', 'sepal_length', 'sepal_width', 'petal_length',\n",
      "       'petal_width', 'species_id', 'species_id', 'species_name'],\n",
      "      dtype='object')\n",
      "measurement_id      int64\n",
      "sepal_length      float64\n",
      "sepal_width       float64\n",
      "petal_length      float64\n",
      "petal_width       float64\n",
      "species_id          int64\n",
      "species_id          int64\n",
      "species_name       object\n",
      "dtype: object\n",
      "       measurement_id  sepal_length  sepal_width  petal_length  petal_width  \\\n",
      "count      150.000000    150.000000   150.000000    150.000000   150.000000   \n",
      "mean        75.500000      5.843333     3.057333      3.758000     1.199333   \n",
      "std         43.445368      0.828066     0.435866      1.765298     0.762238   \n",
      "min          1.000000      4.300000     2.000000      1.000000     0.100000   \n",
      "25%         38.250000      5.100000     2.800000      1.600000     0.300000   \n",
      "50%         75.500000      5.800000     3.000000      4.350000     1.300000   \n",
      "75%        112.750000      6.400000     3.300000      5.100000     1.800000   \n",
      "max        150.000000      7.900000     4.400000      6.900000     2.500000   \n",
      "\n",
      "       species_id  species_id  \n",
      "count  150.000000  150.000000  \n",
      "mean     2.000000    2.000000  \n",
      "std      0.819232    0.819232  \n",
      "min      1.000000    1.000000  \n",
      "25%      1.000000    1.000000  \n",
      "50%      2.000000    2.000000  \n",
      "75%      3.000000    3.000000  \n",
      "max      3.000000    3.000000  \n"
     ]
    }
   ],
   "source": [
    "df_iris = acquire.wrangle_iris()"
   ]
  },
  {
   "cell_type": "code",
   "execution_count": 3,
   "metadata": {},
   "outputs": [
    {
     "name": "stdout",
     "output_type": "stream",
     "text": [
      "Index(['customer_id', 'gender', 'is_senior_citizen', 'partner', 'dependents'], dtype='object')\n",
      "customer_id     object\n",
      "gender          object\n",
      "partner         object\n",
      "dependents      object\n",
      "payment_type    object\n",
      "churn           object\n",
      "dtype: object\n",
      "     is_senior_citizen  phone_service  internet_service  contract_type  \\\n",
      "min                0.0            0.0               0.0            0.0   \n",
      "max                1.0            2.0               2.0            2.0   \n",
      "\n",
      "     monthly_charges  total_charges  \n",
      "min            18.25           18.8  \n",
      "max           118.75         8684.8  \n"
     ]
    }
   ],
   "source": [
    "df_excel, df_excel_sample = acquire.excel_reader()"
   ]
  },
  {
   "cell_type": "code",
   "execution_count": null,
   "metadata": {
    "scrolled": true
   },
   "outputs": [],
   "source": []
  },
  {
   "cell_type": "code",
   "execution_count": null,
   "metadata": {},
   "outputs": [],
   "source": []
  },
  {
   "cell_type": "code",
   "execution_count": 4,
   "metadata": {},
   "outputs": [
    {
     "name": "stdout",
     "output_type": "stream",
     "text": [
      "   PassengerId  Survived  Pclass  \\\n",
      "0            1         0       3   \n",
      "1            2         1       1   \n",
      "2            3         1       3   \n",
      "\n",
      "                                                Name     Sex   Age  SibSp  \\\n",
      "0                            Braund, Mr. Owen Harris    male  22.0      1   \n",
      "1  Cumings, Mrs. John Bradley (Florence Briggs Th...  female  38.0      1   \n",
      "2                             Heikkinen, Miss. Laina  female  26.0      0   \n",
      "\n",
      "   Parch            Ticket     Fare Cabin Embarked  \n",
      "0      0         A/5 21171   7.2500   NaN        S  \n",
      "1      0          PC 17599  71.2833   C85        C  \n",
      "2      0  STON/O2. 3101282   7.9250   NaN        S  \n",
      "Index(['PassengerId', 'Survived', 'Pclass', 'Name', 'Sex', 'Age', 'SibSp',\n",
      "       'Parch', 'Ticket', 'Fare', 'Cabin', 'Embarked'],\n",
      "      dtype='object')\n",
      "PassengerId      int64\n",
      "Survived         int64\n",
      "Pclass           int64\n",
      "Name            object\n",
      "Sex             object\n",
      "Age            float64\n",
      "SibSp            int64\n",
      "Parch            int64\n",
      "Ticket          object\n",
      "Fare           float64\n",
      "Cabin           object\n",
      "Embarked        object\n",
      "dtype: object\n",
      "       PassengerId    Survived      Pclass         Age       SibSp  \\\n",
      "count   891.000000  891.000000  891.000000  714.000000  891.000000   \n",
      "mean    446.000000    0.383838    2.308642   29.699118    0.523008   \n",
      "std     257.353842    0.486592    0.836071   14.526497    1.102743   \n",
      "min       1.000000    0.000000    1.000000    0.420000    0.000000   \n",
      "25%     223.500000    0.000000    2.000000   20.125000    0.000000   \n",
      "50%     446.000000    0.000000    3.000000   28.000000    0.000000   \n",
      "75%     668.500000    1.000000    3.000000   38.000000    1.000000   \n",
      "max     891.000000    1.000000    3.000000   80.000000    8.000000   \n",
      "\n",
      "            Parch        Fare  \n",
      "count  891.000000  891.000000  \n",
      "mean     0.381594   32.204208  \n",
      "std      0.806057   49.693429  \n",
      "min      0.000000    0.000000  \n",
      "25%      0.000000    7.910400  \n",
      "50%      0.000000   14.454200  \n",
      "75%      0.000000   31.000000  \n",
      "max      6.000000  512.329200  \n",
      "[[0, 1], [3, 1, 2], ['male', 'female'], [1, 0, 3, 4, 2, 5, 8], ['S', 'C', 'Q', nan]]\n"
     ]
    }
   ],
   "source": [
    "df_google, unique_categories = acquire.google_sheet()"
   ]
  },
  {
   "cell_type": "code",
   "execution_count": 6,
   "metadata": {},
   "outputs": [
    {
     "name": "stdout",
     "output_type": "stream",
     "text": [
      "yay\n"
     ]
    }
   ],
   "source": []
  },
  {
   "cell_type": "code",
   "execution_count": 7,
   "metadata": {},
   "outputs": [
    {
     "name": "stdout",
     "output_type": "stream",
     "text": [
      "y\n"
     ]
    }
   ],
   "source": [
    "print('y')"
   ]
  },
  {
   "cell_type": "code",
   "execution_count": null,
   "metadata": {},
   "outputs": [],
   "source": []
  }
 ],
 "metadata": {
  "kernelspec": {
   "display_name": "Python 3",
   "language": "python",
   "name": "python3"
  },
  "language_info": {
   "codemirror_mode": {
    "name": "ipython",
    "version": 3
   },
   "file_extension": ".py",
   "mimetype": "text/x-python",
   "name": "python",
   "nbconvert_exporter": "python",
   "pygments_lexer": "ipython3",
   "version": "3.7.3"
  }
 },
 "nbformat": 4,
 "nbformat_minor": 2
}
