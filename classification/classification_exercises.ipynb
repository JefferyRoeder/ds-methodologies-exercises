{
 "cells": [
  {
   "cell_type": "code",
   "execution_count": 1,
   "metadata": {},
   "outputs": [],
   "source": [
    "import env\n",
    "import acquire\n",
    "import split_scale"
   ]
  },
  {
   "cell_type": "code",
   "execution_count": 2,
   "metadata": {},
   "outputs": [
    {
     "name": "stdout",
     "output_type": "stream",
     "text": [
      "   measurement_id  sepal_length  sepal_width  petal_length  petal_width  \\\n",
      "0               1           5.1          3.5           1.4          0.2   \n",
      "1               2           4.9          3.0           1.4          0.2   \n",
      "2               3           4.7          3.2           1.3          0.2   \n",
      "\n",
      "   species_id  species_id species_name  \n",
      "0           1           1       setosa  \n",
      "1           1           1       setosa  \n",
      "2           1           1       setosa  \n",
      "(150, 8)\n",
      "Index(['measurement_id', 'sepal_length', 'sepal_width', 'petal_length',\n",
      "       'petal_width'],\n",
      "      dtype='object')\n",
      "measurement_id      int64\n",
      "sepal_length      float64\n",
      "sepal_width       float64\n",
      "petal_length      float64\n",
      "petal_width       float64\n",
      "species_id          int64\n",
      "species_id          int64\n",
      "species_name       object\n",
      "dtype: object\n",
      "       measurement_id  sepal_length  sepal_width  petal_length  petal_width  \\\n",
      "count      150.000000    150.000000   150.000000    150.000000   150.000000   \n",
      "mean        75.500000      5.843333     3.057333      3.758000     1.199333   \n",
      "std         43.445368      0.828066     0.435866      1.765298     0.762238   \n",
      "min          1.000000      4.300000     2.000000      1.000000     0.100000   \n",
      "25%         38.250000      5.100000     2.800000      1.600000     0.300000   \n",
      "50%         75.500000      5.800000     3.000000      4.350000     1.300000   \n",
      "75%        112.750000      6.400000     3.300000      5.100000     1.800000   \n",
      "max        150.000000      7.900000     4.400000      6.900000     2.500000   \n",
      "\n",
      "       species_id  species_id  \n",
      "count  150.000000  150.000000  \n",
      "mean     2.000000    2.000000  \n",
      "std      0.819232    0.819232  \n",
      "min      1.000000    1.000000  \n",
      "25%      1.000000    1.000000  \n",
      "50%      2.000000    2.000000  \n",
      "75%      3.000000    3.000000  \n",
      "max      3.000000    3.000000  \n"
     ]
    }
   ],
   "source": [
    "df_iris = acquire.wrangle_iris()"
   ]
  },
  {
   "cell_type": "code",
   "execution_count": 3,
   "metadata": {},
   "outputs": [
    {
     "data": {
      "text/plain": [
       "(150, 8)"
      ]
     },
     "execution_count": 3,
     "metadata": {},
     "output_type": "execute_result"
    }
   ],
   "source": [
    "df_iris.shape"
   ]
  },
  {
   "cell_type": "code",
   "execution_count": 4,
   "metadata": {},
   "outputs": [
    {
     "data": {
      "text/html": [
       "<div>\n",
       "<style scoped>\n",
       "    .dataframe tbody tr th:only-of-type {\n",
       "        vertical-align: middle;\n",
       "    }\n",
       "\n",
       "    .dataframe tbody tr th {\n",
       "        vertical-align: top;\n",
       "    }\n",
       "\n",
       "    .dataframe thead th {\n",
       "        text-align: right;\n",
       "    }\n",
       "</style>\n",
       "<table border=\"1\" class=\"dataframe\">\n",
       "  <thead>\n",
       "    <tr style=\"text-align: right;\">\n",
       "      <th></th>\n",
       "      <th>measurement_id</th>\n",
       "      <th>sepal_length</th>\n",
       "      <th>sepal_width</th>\n",
       "      <th>petal_length</th>\n",
       "      <th>petal_width</th>\n",
       "      <th>species_id</th>\n",
       "      <th>species_id</th>\n",
       "    </tr>\n",
       "  </thead>\n",
       "  <tbody>\n",
       "    <tr>\n",
       "      <th>count</th>\n",
       "      <td>150.000000</td>\n",
       "      <td>150.000000</td>\n",
       "      <td>150.000000</td>\n",
       "      <td>150.000000</td>\n",
       "      <td>150.000000</td>\n",
       "      <td>150.000000</td>\n",
       "      <td>150.000000</td>\n",
       "    </tr>\n",
       "    <tr>\n",
       "      <th>mean</th>\n",
       "      <td>75.500000</td>\n",
       "      <td>5.843333</td>\n",
       "      <td>3.057333</td>\n",
       "      <td>3.758000</td>\n",
       "      <td>1.199333</td>\n",
       "      <td>2.000000</td>\n",
       "      <td>2.000000</td>\n",
       "    </tr>\n",
       "    <tr>\n",
       "      <th>std</th>\n",
       "      <td>43.445368</td>\n",
       "      <td>0.828066</td>\n",
       "      <td>0.435866</td>\n",
       "      <td>1.765298</td>\n",
       "      <td>0.762238</td>\n",
       "      <td>0.819232</td>\n",
       "      <td>0.819232</td>\n",
       "    </tr>\n",
       "    <tr>\n",
       "      <th>min</th>\n",
       "      <td>1.000000</td>\n",
       "      <td>4.300000</td>\n",
       "      <td>2.000000</td>\n",
       "      <td>1.000000</td>\n",
       "      <td>0.100000</td>\n",
       "      <td>1.000000</td>\n",
       "      <td>1.000000</td>\n",
       "    </tr>\n",
       "    <tr>\n",
       "      <th>25%</th>\n",
       "      <td>38.250000</td>\n",
       "      <td>5.100000</td>\n",
       "      <td>2.800000</td>\n",
       "      <td>1.600000</td>\n",
       "      <td>0.300000</td>\n",
       "      <td>1.000000</td>\n",
       "      <td>1.000000</td>\n",
       "    </tr>\n",
       "    <tr>\n",
       "      <th>50%</th>\n",
       "      <td>75.500000</td>\n",
       "      <td>5.800000</td>\n",
       "      <td>3.000000</td>\n",
       "      <td>4.350000</td>\n",
       "      <td>1.300000</td>\n",
       "      <td>2.000000</td>\n",
       "      <td>2.000000</td>\n",
       "    </tr>\n",
       "    <tr>\n",
       "      <th>75%</th>\n",
       "      <td>112.750000</td>\n",
       "      <td>6.400000</td>\n",
       "      <td>3.300000</td>\n",
       "      <td>5.100000</td>\n",
       "      <td>1.800000</td>\n",
       "      <td>3.000000</td>\n",
       "      <td>3.000000</td>\n",
       "    </tr>\n",
       "    <tr>\n",
       "      <th>max</th>\n",
       "      <td>150.000000</td>\n",
       "      <td>7.900000</td>\n",
       "      <td>4.400000</td>\n",
       "      <td>6.900000</td>\n",
       "      <td>2.500000</td>\n",
       "      <td>3.000000</td>\n",
       "      <td>3.000000</td>\n",
       "    </tr>\n",
       "  </tbody>\n",
       "</table>\n",
       "</div>"
      ],
      "text/plain": [
       "       measurement_id  sepal_length  sepal_width  petal_length  petal_width  \\\n",
       "count      150.000000    150.000000   150.000000    150.000000   150.000000   \n",
       "mean        75.500000      5.843333     3.057333      3.758000     1.199333   \n",
       "std         43.445368      0.828066     0.435866      1.765298     0.762238   \n",
       "min          1.000000      4.300000     2.000000      1.000000     0.100000   \n",
       "25%         38.250000      5.100000     2.800000      1.600000     0.300000   \n",
       "50%         75.500000      5.800000     3.000000      4.350000     1.300000   \n",
       "75%        112.750000      6.400000     3.300000      5.100000     1.800000   \n",
       "max        150.000000      7.900000     4.400000      6.900000     2.500000   \n",
       "\n",
       "       species_id  species_id  \n",
       "count  150.000000  150.000000  \n",
       "mean     2.000000    2.000000  \n",
       "std      0.819232    0.819232  \n",
       "min      1.000000    1.000000  \n",
       "25%      1.000000    1.000000  \n",
       "50%      2.000000    2.000000  \n",
       "75%      3.000000    3.000000  \n",
       "max      3.000000    3.000000  "
      ]
     },
     "execution_count": 4,
     "metadata": {},
     "output_type": "execute_result"
    }
   ],
   "source": [
    "df_iris.describe()"
   ]
  },
  {
   "cell_type": "code",
   "execution_count": null,
   "metadata": {},
   "outputs": [],
   "source": []
  }
 ],
 "metadata": {
  "kernelspec": {
   "display_name": "Python 3",
   "language": "python",
   "name": "python3"
  },
  "language_info": {
   "codemirror_mode": {
    "name": "ipython",
    "version": 3
   },
   "file_extension": ".py",
   "mimetype": "text/x-python",
   "name": "python",
   "nbconvert_exporter": "python",
   "pygments_lexer": "ipython3",
   "version": "3.7.3"
  }
 },
 "nbformat": 4,
 "nbformat_minor": 2
}
